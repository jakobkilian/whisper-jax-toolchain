{
 "cells": [
  {
   "cell_type": "markdown",
   "id": "b99cc969-ea5c-4edb-81fe-cc4f5986f40c",
   "metadata": {},
   "source": [
    "**Import required Python modules**"
   ]
  },
  {
   "cell_type": "code",
   "execution_count": 62,
   "id": "718591a3-8290-4376-a271-ff015de828dc",
   "metadata": {},
   "outputs": [],
   "source": [
    "from whisper_jax import FlaxWhisperPipline\n",
    "import jax.numpy as jnp\n",
    "import time\n",
    "import os"
   ]
  },
  {
   "cell_type": "markdown",
   "id": "97f75553-98b8-483c-8a85-f634a941ad85",
   "metadata": {},
   "source": [
    "**CAN TAKE A WHILE: Instantiate pipeline with settings fitting to A100 grpahics card: bfloat16 and batching enabled**"
   ]
  },
  {
   "cell_type": "code",
   "execution_count": 3,
   "id": "cab60dcb-c658-41ae-a2d8-46445d2ea796",
   "metadata": {},
   "outputs": [],
   "source": [
    "pipeline = FlaxWhisperPipline(\"openai/whisper-large-v2\", dtype=jnp.bfloat16, batch_size=16)"
   ]
  },
  {
   "cell_type": "markdown",
   "id": "8e6763c9-1559-4960-a8b3-8813309ef30f",
   "metadata": {},
   "source": [
    "**Search for files in \"input\" -> check the response to see if files have been found!**"
   ]
  },
  {
   "cell_type": "code",
   "execution_count": 110,
   "id": "0533b418-1b22-4d48-ad06-47a21f145d53",
   "metadata": {},
   "outputs": [
    {
     "name": "stdout",
     "output_type": "stream",
     "text": [
      "found 1 files: \n",
      "\n",
      "----------\n",
      "['audio.wav']\n",
      "----------\n",
      "\n",
      "Found one file: audio.wav\n"
     ]
    }
   ],
   "source": [
    "\n",
    "# search for the files in folder \"input\" that are not hidden\n",
    "path = \"input\"\n",
    "all_files = [f for f in os.listdir(path) if not f.startswith('.')]\n",
    "amount = len(all_files)\n",
    "\n",
    "# print some stuff for debugging\n",
    "print(\"found \" + str(amount) + \" files: \\n\\n----------\\n\" + str(all_files))\n",
    "print(\"----------\")\n",
    "if amount > 1:\n",
    "    print(\"\\nFound multiple files, only use first file: \" + all_files[0])\n",
    "    input_file = all_files[0]\n",
    "if amount == 1:\n",
    "    print(\"\\nFound one file: \" + all_files[0])\n",
    "    input_file = all_files[0]\n",
    "if amount == 0:\n",
    "    print(\"ERROR: NO FILE FOUND\")\n",
    "    input_file = NULL\n"
   ]
  },
  {
   "cell_type": "code",
   "execution_count": 134,
   "id": "4c227411-6e25-4edc-bd73-e7c86febc204",
   "metadata": {},
   "outputs": [
    {
     "name": "stdout",
     "output_type": "stream",
     "text": [
      "Transcription needed 14 seconds:\n",
      "--------------------------------------\n",
      "\n",
      "Ich nehme jetzt noch mal den Text auf, der erst auf Deutsch ist. And I will switch to English while talking, testing the pre-settings, if it's better to just keep it open or to define the language or even what happens, wenn man erst Deutsch auswählt und dann aber trotzdem Englisch spricht. you\n"
     ]
    }
   ],
   "source": [
    "# save current time\n",
    "t = time.time()\n",
    "# do the actual transcription of the FRIST file in folder \"input\". No language is defined, so Whisper will auto-detect the language.\n",
    "outputs = pipeline(path + \"/\" + input_file,  task=\"transcribe\", return_timestamps=True)\n",
    "# print out the time needed for the transcription\n",
    "print(\"Transcription needed \" +  str(int(time.time() - t)) + \" seconds:\")\n",
    "print(\"--------------------------------------\\n\\n\" + outputs['text'].lstrip())"
   ]
  },
  {
   "cell_type": "markdown",
   "id": "88cb2fc4-a251-43cd-990c-0a9f499cf96d",
   "metadata": {},
   "source": [
    "**save transcription as coninuous text and with timestamps (mm:ss format) in the \"output\" folder**"
   ]
  },
  {
   "cell_type": "code",
   "execution_count": 59,
   "id": "d57dbb07-e67b-42c0-95b3-7d1fd47b6c7d",
   "metadata": {},
   "outputs": [],
   "source": [
    "with open('output/timestamped.txt', 'w') as file:\n",
    "    for chunk in outputs['chunks']:\n",
    "        minutes, seconds = divmod(int(chunk['timestamp'][0]), 60)\n",
    "        file.write(f'{minutes:02d}:{seconds:02d}\\n')\n",
    "        file.write(chunk['text'].lstrip() + \"\\n\\n\")  # .lstrip() entfernt führende Leerzeichen\n",
    "\n",
    "with open('output/continuous.txt', 'w') as file:\n",
    "    file.write(outputs['text'].lstrip())"
   ]
  },
  {
   "cell_type": "markdown",
   "id": "4f25a931-854b-473c-9c27-520d6c3113f8",
   "metadata": {},
   "source": [
    "**the end**"
   ]
  }
 ],
 "metadata": {
  "kernelspec": {
   "display_name": "Python [conda env:py39]",
   "language": "python",
   "name": "conda-env-py39-py"
  },
  "language_info": {
   "codemirror_mode": {
    "name": "ipython",
    "version": 3
   },
   "file_extension": ".py",
   "mimetype": "text/x-python",
   "name": "python",
   "nbconvert_exporter": "python",
   "pygments_lexer": "ipython3",
   "version": "3.9.16"
  }
 },
 "nbformat": 4,
 "nbformat_minor": 5
}
